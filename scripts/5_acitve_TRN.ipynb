{
 "cells": [
  {
   "cell_type": "code",
   "execution_count": 1,
   "id": "7a95231c",
   "metadata": {},
   "outputs": [],
   "source": [
    "import pandas as pd\n",
    "import numpy as np\n",
    "from os import path\n",
    "from pymodulon.io import *\n",
    "from pymodulon.plotting import *\n",
    "\n",
    "from scipy.stats import ks_2samp"
   ]
  },
  {
   "cell_type": "code",
   "execution_count": 2,
   "id": "86bfe0ac",
   "metadata": {},
   "outputs": [],
   "source": [
    "data_dir = path.join('..','data','processed_data')\n",
    "interim_dir = path.join('..','data','interim')\n",
    "external_dir = path.join('..','data','external')\n",
    "figure_dir = path.join('..','figures')"
   ]
  },
  {
   "cell_type": "code",
   "execution_count": 3,
   "id": "8e418e23",
   "metadata": {},
   "outputs": [],
   "source": [
    "ica_data = load_json_model(path.join(interim_dir,'bd.json.gz'))"
   ]
  },
  {
   "cell_type": "markdown",
   "id": "9850b80b",
   "metadata": {},
   "source": [
    "Sample grouping"
   ]
  },
  {
   "cell_type": "code",
   "execution_count": 4,
   "id": "0e512055",
   "metadata": {},
   "outputs": [],
   "source": [
    "groups={\n",
    "        \"102625:110spc4_aerobic _PSY\":\"Aerobic\",\n",
    "        \"102625:110spc4_micro_PSY\":\"Microaerobiosis\",\n",
    "#         \"102625:110spc4_nodules_soybean_21\":\"Bacterioid\",\n",
    "#        \"102625:110spc4_anoxic_YEM\":\"Anoxic\",\n",
    "#         \"101727:110spc4_genistein\":\"Genistein\",\n",
    "        \n",
    "       }"
   ]
  },
  {
   "cell_type": "markdown",
   "id": "e2d92f4f",
   "metadata": {},
   "source": [
    "Differential activity analysis"
   ]
  },
  {
   "cell_type": "code",
   "execution_count": 5,
   "id": "35876bf7",
   "metadata": {},
   "outputs": [],
   "source": [
    "selected_A=pd.DataFrame()\n",
    "\n",
    "refer_id = ica_data.sample_table[ica_data.sample_table.full_name==\"102625:110spc4_aerobic _PSY\"].index.to_list()\n",
    "refer_A = ica_data.A[refer_id]\n",
    "for i in groups:\n",
    "    sample_id = ica_data.sample_table[ica_data.sample_table.full_name==i].index.to_list()\n",
    "\n",
    "    temp_A= pd.DataFrame()\n",
    "    \n",
    "    for k in sample_id:\n",
    "        temp_A[k]=ica_data.A[k]\n",
    "    \n",
    "    s = pd.Series(dtype=\"bool_\")\n",
    "    for j in ica_data.imodulon_names:\n",
    "        if ks_2samp(refer_A.loc[j].values,temp_A.loc[j].values)[1] < 0.05:\n",
    "            s[j] = True\n",
    "        else:\n",
    "            s[j] = False\n",
    "    selected_A[i]=s"
   ]
  },
  {
   "cell_type": "code",
   "execution_count": 6,
   "id": "49b8d5de",
   "metadata": {},
   "outputs": [],
   "source": [
    "selected_B=pd.DataFrame()\n",
    "\n",
    "refer_id = ica_data.sample_table[ica_data.sample_table.full_name==\"102625:110spc4_aerobic _PSY\"].index.to_list()\n",
    "refer_B = ica_data.A[refer_id]\n",
    "for i in groups:\n",
    "    sample_id = ica_data.sample_table[ica_data.sample_table.full_name==i].index.to_list()\n",
    "    \n",
    "    temp_B= pd.DataFrame()\n",
    "    \n",
    "    for k in sample_id:\n",
    "        temp_B[k]=ica_data.A[k]\n",
    "    \n",
    "    selected_B[i]=temp_B.mean(axis=1) - refer_B.mean(axis=1) \n",
    "    "
   ]
  },
  {
   "cell_type": "markdown",
   "id": "ebb1e4f1",
   "metadata": {},
   "source": [
    "Activated iModulons"
   ]
  },
  {
   "cell_type": "code",
   "execution_count": 7,
   "id": "075cbaef",
   "metadata": {},
   "outputs": [],
   "source": [
    "sig_index = selected_A[selected_A.iloc[:,1]].index\n",
    "up_index = selected_B[selected_B.iloc[:,1] > 0].index\n",
    "active_im_index = sig_index.intersection(up_index)"
   ]
  },
  {
   "cell_type": "code",
   "execution_count": 8,
   "id": "d7fc7af6",
   "metadata": {},
   "outputs": [
    {
     "data": {
      "text/plain": [
       "Index(['FixK2-1', 'NifA/RpoN', 'Unchar-3', 'Irr', 'Unchar-6', 'Unchar-7',\n",
       "       'HrcA', 'Signal_transduction', 'Leucine', 'Translation-1',\n",
       "       'Calvin_cycle', 'Oxidation_stress', 'FixK2-2', 'Unchar-11', 'Null-2',\n",
       "       'Unchar-13', 'NodD2', 'Cell_mobility', 'T6SS', 'Sulfur-1', 'Null-3'],\n",
       "      dtype='object')"
      ]
     },
     "execution_count": 8,
     "metadata": {},
     "output_type": "execute_result"
    }
   ],
   "source": [
    "active_im_index"
   ]
  },
  {
   "cell_type": "markdown",
   "id": "c9af93cb",
   "metadata": {},
   "source": [
    "active_TRN"
   ]
  },
  {
   "cell_type": "code",
   "execution_count": 9,
   "id": "4d597f60",
   "metadata": {
    "scrolled": true
   },
   "outputs": [],
   "source": [
    "ls1= []\n",
    "for i in active_im_index:\n",
    "    im_gene_table = ica_data.view_imodulon(i)[ica_data.view_imodulon(i).regulator.notnull()]\n",
    "    for k in im_gene_table[[\"regulator\"]].iterrows():\n",
    "        for j in k[1].str.split(\",\")[\"regulator\"]:\n",
    "            ls1.append([k[0],j])\n",
    "\n",
    "active_TRN = pd.DataFrame(ls1).drop_duplicates()\n",
    "active_TRN.columns= [\"gene\",\"regulator\"]"
   ]
  },
  {
   "cell_type": "code",
   "execution_count": 10,
   "id": "0767c9c8",
   "metadata": {
    "scrolled": true
   },
   "outputs": [],
   "source": [
    "# active_TRN.to_csv(\"Microaerobiosis_TRN.csv\",index=None)\n",
    "\n",
    "# active_TRN.to_csv(\"Bacterioid21_TRN.csv\",index=None)\n",
    "# \n",
    "# active_TRN.to_csv(\"Denitrification_TRN.csv\",index=None)\n",
    "# \n",
    "# active_TRN.to_csv(\"Genistein_TRN.csv\",index=None)"
   ]
  }
 ],
 "metadata": {
  "kernelspec": {
   "display_name": "Python 3 (ipykernel)",
   "language": "python",
   "name": "python3"
  },
  "language_info": {
   "codemirror_mode": {
    "name": "ipython",
    "version": 3
   },
   "file_extension": ".py",
   "mimetype": "text/x-python",
   "name": "python",
   "nbconvert_exporter": "python",
   "pygments_lexer": "ipython3",
   "version": "3.10.6"
  }
 },
 "nbformat": 4,
 "nbformat_minor": 5
}
